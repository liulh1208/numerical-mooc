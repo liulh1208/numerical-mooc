{
 "cells": [
  {
   "cell_type": "code",
   "execution_count": 1,
   "metadata": {
    "collapsed": true
   },
   "outputs": [],
   "source": [
    "%matplotlib inline\n",
    "import numpy \n",
    "from matplotlib import pyplot\n",
    "from matplotlib import rcParams\n",
    "rcParams['font.family'] = 'serif'\n",
    "rcParams['font.size'] = 16"
   ]
  },
  {
   "cell_type": "code",
   "execution_count": 2,
   "metadata": {
    "collapsed": true
   },
   "outputs": [],
   "source": [
    "nx = 81\n",
    "dx = .25\n",
    "dt = .0002   \n",
    "gamma = 1.4\n",
    "t = 0.01 #Since all caculations at time = 0.01s\n",
    "nt = int(t/dt)+1"
   ]
  },
  {
   "cell_type": "code",
   "execution_count": 3,
   "metadata": {
    "collapsed": false
   },
   "outputs": [
    {
     "data": {
      "text/plain": [
       "array([ 100000.,  100000.,  100000.,  100000.,  100000.,  100000.,\n",
       "        100000.,  100000.,  100000.,  100000.,  100000.,  100000.,\n",
       "        100000.,  100000.,  100000.,  100000.,  100000.,  100000.,\n",
       "        100000.,  100000.,  100000.,  100000.,  100000.,  100000.,\n",
       "        100000.,  100000.,  100000.,  100000.,  100000.,  100000.,\n",
       "        100000.,  100000.,  100000.,  100000.,  100000.,  100000.,\n",
       "        100000.,  100000.,  100000.,  100000.,   10000.,   10000.,\n",
       "         10000.,   10000.,   10000.,   10000.,   10000.,   10000.,\n",
       "         10000.,   10000.,   10000.,   10000.,   10000.,   10000.,\n",
       "         10000.,   10000.,   10000.,   10000.,   10000.,   10000.,\n",
       "         10000.,   10000.,   10000.,   10000.,   10000.,   10000.,\n",
       "         10000.,   10000.,   10000.,   10000.,   10000.,   10000.,\n",
       "         10000.,   10000.,   10000.,   10000.,   10000.,   10000.,\n",
       "         10000.,   10000.,   10000.])"
      ]
     },
     "execution_count": 3,
     "metadata": {},
     "output_type": "execute_result"
    }
   ],
   "source": [
    "x = numpy.linspace(-10, 10, nx)\n",
    "rho = numpy.ones(nx)\n",
    "rho[40:] = 0.125\n",
    "\n",
    "u = numpy.zeros(nx)\n",
    "\n",
    "p = numpy.ones(nx)\n",
    "p[0:40] = 100000.\n",
    "p[40:] = 10000.\n",
    "p"
   ]
  },
  {
   "cell_type": "code",
   "execution_count": 4,
   "metadata": {
    "collapsed": false
   },
   "outputs": [
    {
     "data": {
      "text/plain": [
       "array([ 1.   ,  1.   ,  1.   ,  1.   ,  1.   ,  1.   ,  1.   ,  1.   ,\n",
       "        1.   ,  1.   ,  1.   ,  1.   ,  1.   ,  1.   ,  1.   ,  1.   ,\n",
       "        1.   ,  1.   ,  1.   ,  1.   ,  1.   ,  1.   ,  1.   ,  1.   ,\n",
       "        1.   ,  1.   ,  1.   ,  1.   ,  1.   ,  1.   ,  1.   ,  1.   ,\n",
       "        1.   ,  1.   ,  1.   ,  1.   ,  1.   ,  1.   ,  1.   ,  1.   ,\n",
       "        0.125,  0.125,  0.125,  0.125,  0.125,  0.125,  0.125,  0.125,\n",
       "        0.125,  0.125,  0.125,  0.125,  0.125,  0.125,  0.125,  0.125,\n",
       "        0.125,  0.125,  0.125,  0.125,  0.125,  0.125,  0.125,  0.125,\n",
       "        0.125,  0.125,  0.125,  0.125,  0.125,  0.125,  0.125,  0.125,\n",
       "        0.125,  0.125,  0.125,  0.125,  0.125,  0.125,  0.125,  0.125,\n",
       "        0.125])"
      ]
     },
     "execution_count": 4,
     "metadata": {},
     "output_type": "execute_result"
    }
   ],
   "source": [
    "rho"
   ]
  },
  {
   "cell_type": "code",
   "execution_count": 5,
   "metadata": {
    "collapsed": false
   },
   "outputs": [
    {
     "data": {
      "text/plain": [
       "array([ 0.,  0.,  0.,  0.,  0.,  0.,  0.,  0.,  0.,  0.,  0.,  0.,  0.,\n",
       "        0.,  0.,  0.,  0.,  0.,  0.,  0.,  0.,  0.,  0.,  0.,  0.,  0.,\n",
       "        0.,  0.,  0.,  0.,  0.,  0.,  0.,  0.,  0.,  0.,  0.,  0.,  0.,\n",
       "        0.,  0.,  0.,  0.,  0.,  0.,  0.,  0.,  0.,  0.,  0.,  0.,  0.,\n",
       "        0.,  0.,  0.,  0.,  0.,  0.,  0.,  0.,  0.,  0.,  0.,  0.,  0.,\n",
       "        0.,  0.,  0.,  0.,  0.,  0.,  0.,  0.,  0.,  0.,  0.,  0.,  0.,\n",
       "        0.,  0.,  0.])"
      ]
     },
     "execution_count": 5,
     "metadata": {},
     "output_type": "execute_result"
    }
   ],
   "source": [
    "u"
   ]
  },
  {
   "cell_type": "code",
   "execution_count": 6,
   "metadata": {
    "collapsed": false
   },
   "outputs": [],
   "source": [
    "eT = p/(gamma-1)/rho + 0.5*u**2"
   ]
  },
  {
   "cell_type": "code",
   "execution_count": 7,
   "metadata": {
    "collapsed": false
   },
   "outputs": [],
   "source": [
    "u1 = rho\n",
    "u2 = rho*u\n",
    "u3 = rho*eT"
   ]
  },
  {
   "cell_type": "code",
   "execution_count": 8,
   "metadata": {
    "collapsed": true
   },
   "outputs": [],
   "source": [
    "def computef1(u1, u2, u3):\n",
    "    return u2\n",
    "def computef2(u1, u2, u3):\n",
    "    return u2**2/u1 + (gamma-1)*(u3 - 0.5*u2**2/u1)\n",
    "def computef3(u1, u2, u3):\n",
    "    return (u3 + (gamma - 1)*(u3 - 0.5*u2**2/u1))*u2/u1"
   ]
  },
  {
   "cell_type": "code",
   "execution_count": 9,
   "metadata": {
    "collapsed": false
   },
   "outputs": [],
   "source": [
    "def mainfunction(u1, u2, u3, dx, dt, nx, nt):\n",
    "    u1n = numpy.zeros((nt, len(u1)))\n",
    "    u2n = numpy.zeros((nt, len(u2)))\n",
    "    u3n = numpy.zeros((nt, len(u3)))\n",
    "    \n",
    "    u1star = numpy.zeros(nx)\n",
    "    u2star = numpy.zeros(nx)\n",
    "    u3star = numpy.zeros(nx)\n",
    "    \n",
    "    u1n[:,:] = u1.copy()\n",
    "    u2n[:,:] = u2.copy()\n",
    "    u3n[:,:] = u3.copy()\n",
    "    \n",
    "    u1star = u1.copy()\n",
    "    u2star = u2.copy()\n",
    "    u3star = u3.copy()\n",
    "    \n",
    "    for i in range(1, nt):\n",
    "        f1 = computef1(u1, u2, u3)\n",
    "        f2 = computef2(u1, u2, u3)\n",
    "        f3 = computef3(u1, u2, u3)\n",
    "        \n",
    "        u1star[:-1] = 0.5*(u1[:-1] + u1[1:]) - (dt/(2*dx))*(f1[1:] - f1[:-1])\n",
    "        u2star[:-1] = 0.5*(u2[:-1] + u2[1:]) - (dt/(2*dx))*(f2[1:] - f2[:-1])\n",
    "        u3star[:-1] = 0.5*(u3[:-1] + u3[1:]) - (dt/(2*dx))*(f3[1:] - f3[:-1])\n",
    "        \n",
    "        f1star = computef1(u1star, u2star, u3star)\n",
    "        f2star = computef2(u1star, u2star, u3star)\n",
    "        f3star = computef3(u1star, u2star, u3star)\n",
    "        \n",
    "        u1n[i,1:] = u1[1:] - (dt/dx)*(f1star[1:] - f1star[:-1])\n",
    "        u2n[i,1:] = u2[1:] - (dt/dx)*(f2star[1:] - f2star[:-1])\n",
    "        u3n[i,1:] = u3[1:] - (dt/dx)*(f3star[1:] - f3star[:-1])\n",
    "        \n",
    "        u1 = u1n[i].copy()\n",
    "        u2 = u2n[i].copy()\n",
    "        u3 = u3n[i].copy()\n",
    "        \n",
    "       \n",
    "    return u1n, u2n, u3n"
   ]
  },
  {
   "cell_type": "code",
   "execution_count": 10,
   "metadata": {
    "collapsed": false
   },
   "outputs": [],
   "source": [
    "un = mainfunction(u1, u2, u3, dx, dt, nx, nt)"
   ]
  },
  {
   "cell_type": "code",
   "execution_count": 11,
   "metadata": {
    "collapsed": false
   },
   "outputs": [],
   "source": [
    "u1nx = un[0] # first output's array is u1n\n",
    "u1x = u1nx[int(t/dt),int((10+2.5)/dx)] # find the value at time 0.01s and x=2.5m\n",
    "\n",
    "u2nx = un[1] # second output's array is u2n\n",
    "u2x = u2nx[int(t/dt),int((10+2.5)/dx)] # find the value at time 0.01s and x=2.5m\n",
    "\n",
    "u3nx = un[2] # third output's array is u3n\n",
    "u3x = u3nx[int(t/dt),int((10+2.5)/dx)] # find the value at time 0.01s and x=2.5m"
   ]
  },
  {
   "cell_type": "code",
   "execution_count": 12,
   "metadata": {
    "collapsed": false
   },
   "outputs": [],
   "source": [
    "density = u1x\n",
    "velocity = u2x/u1x\n",
    "eTx = u3x/u1x\n",
    "pressure = (density*eTx - density*0.5*velocity**2)*(gamma-1)"
   ]
  },
  {
   "cell_type": "code",
   "execution_count": 13,
   "metadata": {
    "collapsed": false
   },
   "outputs": [
    {
     "name": "stdout",
     "output_type": "stream",
     "text": [
      "At x=2.5m, the density is 0.37 kg/m^3\n"
     ]
    }
   ],
   "source": [
    "print('At x=2.5m, the density is {:.2f} kg/m^3'.format(density))"
   ]
  },
  {
   "cell_type": "code",
   "execution_count": 14,
   "metadata": {
    "collapsed": false
   },
   "outputs": [
    {
     "name": "stdout",
     "output_type": "stream",
     "text": [
      "At x=2.5m, the velocity is 292.61 m/s\n"
     ]
    }
   ],
   "source": [
    "print('At x=2.5m, the velocity is {:.2f} m/s'.format(velocity))"
   ]
  },
  {
   "cell_type": "code",
   "execution_count": 15,
   "metadata": {
    "collapsed": false
   },
   "outputs": [
    {
     "name": "stdout",
     "output_type": "stream",
     "text": [
      "At x=2.5m, the pressure is 30250.89 N/m^2\n"
     ]
    }
   ],
   "source": [
    "print('At x=2.5m, the pressure is {:.2f} N/m^2'.format(pressure))"
   ]
  }
 ],
 "metadata": {
  "kernelspec": {
   "display_name": "Python 3",
   "language": "python",
   "name": "python3"
  },
  "language_info": {
   "codemirror_mode": {
    "name": "ipython",
    "version": 3
   },
   "file_extension": ".py",
   "mimetype": "text/x-python",
   "name": "python",
   "nbconvert_exporter": "python",
   "pygments_lexer": "ipython3",
   "version": "3.4.3"
  }
 },
 "nbformat": 4,
 "nbformat_minor": 0
}
