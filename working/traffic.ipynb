{
 "cells": [
  {
   "cell_type": "code",
   "execution_count": 1,
   "metadata": {
    "collapsed": true
   },
   "outputs": [],
   "source": [
    "import numpy                       \n",
    "from matplotlib import pyplot                 \n",
    "%matplotlib inline\n",
    "from matplotlib import rcParams\n",
    "rcParams['font.family'] = 'serif'\n",
    "rcParams['font.size'] = 16"
   ]
  },
  {
   "cell_type": "code",
   "execution_count": 2,
   "metadata": {
    "collapsed": true
   },
   "outputs": [],
   "source": [
    "Vmax = 80\n",
    "L = 11\n",
    "rhomax = 250\n",
    "nx = 51\n",
    "dt = 0.001\n",
    "dx = L/(nx-1)\n",
    "\n",
    "\n",
    "F = numpy.zeros(nx)\n",
    "V = numpy.zeros(nx)"
   ]
  },
  {
   "cell_type": "code",
   "execution_count": 3,
   "metadata": {
    "collapsed": false
   },
   "outputs": [],
   "source": [
    "x = numpy.linspace(0,L,nx)\n",
    "rho0 = numpy.ones(nx)*10\n",
    "rho0[10:20] = 50\n",
    "rho = rho0\n",
    "rho[0] = 10"
   ]
  },
  {
   "cell_type": "code",
   "execution_count": 4,
   "metadata": {
    "collapsed": false
   },
   "outputs": [],
   "source": [
    "for n in range (nx):\n",
    "    V[n] = Vmax*(1-rho[n]/rhomax)\n",
    "    F[n] = V[n]*rho[n]"
   ]
  },
  {
   "cell_type": "code",
   "execution_count": 5,
   "metadata": {
    "collapsed": false
   },
   "outputs": [
    {
     "name": "stdout",
     "output_type": "stream",
     "text": [
      "The minimum velocity at time t = 0 is v =17.78 m/s\n"
     ]
    }
   ],
   "source": [
    "v0min = V[0]\n",
    "for i in range (1,nx):\n",
    "    if V[i] < v0min:\n",
    "        v0min = V[i]\n",
    "print ('The minimum velocity at time t = 0 is v ={:.2f} m/s'.format(v0min/3.6))"
   ]
  },
  {
   "cell_type": "code",
   "execution_count": 6,
   "metadata": {
    "collapsed": false
   },
   "outputs": [],
   "source": [
    "nt = int(3/(60*dt))\n",
    "\n",
    "for n in range (1, nt):\n",
    "    rhoo = rho.copy()\n",
    "    for n in range (1, nx):\n",
    "        V[n] = Vmax*(1-rho[n]/rhomax)\n",
    "        F[n] = V[n]*rho[n]\n",
    "        rho[n] = rhoo[n] - dt/dx*(F[n]-F[n-1])\n",
    "        "
   ]
  },
  {
   "cell_type": "code",
   "execution_count": 7,
   "metadata": {
    "collapsed": false
   },
   "outputs": [
    {
     "data": {
      "text/plain": [
       "[<matplotlib.lines.Line2D at 0x10698bfd0>]"
      ]
     },
     "execution_count": 7,
     "metadata": {},
     "output_type": "execute_result"
    },
    {
     "data": {
      "image/png": "[encoded data removed]",
      "text/plain": [
       "<matplotlib.figure.Figure at 0x10692f9b0>"
      ]
     },
     "metadata": {},
     "output_type": "display_data"
    }
   ],
   "source": [
    "pyplot.plot(x, rho, color='#003366', ls='--', lw=3)"
   ]
  },
  {
   "cell_type": "code",
   "execution_count": 8,
   "metadata": {
    "collapsed": false
   },
   "outputs": [
    {
     "name": "stdout",
     "output_type": "stream",
     "text": [
      "The average velocity at t=3 minutes is v =20.64 m/s\n"
     ]
    }
   ],
   "source": [
    "Vsum = 0\n",
    "for n in range (nx):\n",
    "    Vsum = Vsum + V[n]\n",
    "    \n",
    "print('The average velocity at t=3 minutes is v ={:.2f} m/s'.format((Vsum/nx)/3.6))"
   ]
  },
  {
   "cell_type": "code",
   "execution_count": 9,
   "metadata": {
    "collapsed": false
   },
   "outputs": [],
   "source": [
    "nt6 = int(6/(60*nt))\n",
    "\n",
    "for n in range (1, nt6):\n",
    "    rhoo = rho.copy()\n",
    "    for n in range (1, nx):\n",
    "        V[n] = Vmax*(1-rho[n]/rhomax)\n",
    "        F[n] = V[n]*rho[n]\n",
    "        rho[n] = rhoo[n] - dt/dx*(F[n]-F[n-1])"
   ]
  },
  {
   "cell_type": "code",
   "execution_count": 10,
   "metadata": {
    "collapsed": false
   },
   "outputs": [
    {
     "name": "stdout",
     "output_type": "stream",
     "text": [
      "The miminum velocity at time t = 6 minutes is v = 18.16 m/s\n"
     ]
    }
   ],
   "source": [
    "v6min = V[0]\n",
    "for i in range (0,nx):\n",
    "    if V[i] < v6min:\n",
    "        v6min = V[i]\n",
    "print ('The miminum velocity at time t = 6 minutes is v = {:.2f} m/s'.format(v6min/3.6))"
   ]
  },
  {
   "cell_type": "code",
   "execution_count": 11,
   "metadata": {
    "collapsed": false
   },
   "outputs": [],
   "source": [
    "#Part B:\n",
    "Vmax2 = 136\n",
    "x = numpy.linspace(0,L,nx)\n",
    "rho02 = numpy.ones(nx)*20 \n",
    "rho02[10:20] = 50\n",
    "rho2 = rho02\n",
    "rho2[0] = 20\n",
    "\n",
    "\n",
    "F2 = numpy.zeros(nx)\n",
    "V2 = numpy.zeros(nx)"
   ]
  },
  {
   "cell_type": "code",
   "execution_count": 12,
   "metadata": {
    "collapsed": false
   },
   "outputs": [],
   "source": [
    "for n in range (nx):\n",
    "    V2[n] = Vmax2*(1-rho2[n]/rhomax)\n",
    "    F2[n] = V2[n]*rho2[n]"
   ]
  },
  {
   "cell_type": "code",
   "execution_count": 13,
   "metadata": {
    "collapsed": false
   },
   "outputs": [
    {
     "name": "stdout",
     "output_type": "stream",
     "text": [
      "The minimum velocity at time t = 0 is v =30.22 m/s\n"
     ]
    }
   ],
   "source": [
    "v20min = V2[0]\n",
    "for i in range (1,nx):\n",
    "    if V2[i] < v20min:\n",
    "        v20min = V2[i]\n",
    "print ('The minimum velocity at time t = 0 is v ={:.2f} m/s'.format(v20min/3.6))"
   ]
  },
  {
   "cell_type": "code",
   "execution_count": 14,
   "metadata": {
    "collapsed": true
   },
   "outputs": [],
   "source": [
    "nt = int(3/(60*dt))\n",
    "\n",
    "for n in range (1, nt):\n",
    "    rho2o = rho2.copy()\n",
    "    for n in range (1, nx):\n",
    "        V2[n] = Vmax2*(1-rho2[n]/rhomax)\n",
    "        F2[n] = V2[n]*rho2[n]\n",
    "        rho2[n] = rho2o[n] - dt/dx*(F2[n]-F2[n-1])"
   ]
  },
  {
   "cell_type": "code",
   "execution_count": 15,
   "metadata": {
    "collapsed": false
   },
   "outputs": [
    {
     "name": "stdout",
     "output_type": "stream",
     "text": [
      "The average velocity at t=3 minutes is v =33.87 m/s\n"
     ]
    }
   ],
   "source": [
    "Vsum2 = 0\n",
    "for n in range (nx):\n",
    "    Vsum2 = Vsum2 + V2[n]\n",
    "    \n",
    "print('The average velocity at t=3 minutes is v ={:.2f} m/s'.format((Vsum2/nx)/3.6))"
   ]
  },
  {
   "cell_type": "code",
   "execution_count": 16,
   "metadata": {
    "collapsed": false
   },
   "outputs": [
    {
     "name": "stdout",
     "output_type": "stream",
     "text": [
      "The minimum velocity at t=3 minutes is v =30.94 m/s\n"
     ]
    }
   ],
   "source": [
    "v3min = V2[0]\n",
    "for i in range (1,nx):\n",
    "    if V2[i] < v3min:\n",
    "        v3min = V2[i]\n",
    "print ('The minimum velocity at t=3 minutes is v ={:.2f} m/s'.format(v3min/3.6))"
   ]
  }
 ],
 "metadata": {
  "kernelspec": {
   "display_name": "Python 3",
   "language": "python",
   "name": "python3"
  },
  "language_info": {
   "codemirror_mode": {
    "name": "ipython",
    "version": 3
   },
   "file_extension": ".py",
   "mimetype": "text/x-python",
   "name": "python",
   "nbconvert_exporter": "python",
   "pygments_lexer": "ipython3",
   "version": "3.4.3"
  }
 },
 "nbformat": 4,
 "nbformat_minor": 0
}
