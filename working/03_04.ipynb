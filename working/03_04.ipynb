{
 "cells": [
  {
   "cell_type": "code",
   "execution_count": null,
   "metadata": {
    "collapsed": true
   },
   "outputs": [],
   "source": [
    "%matplotlib inline\n",
    "import numpy \n",
    "from matplotlib import pyplot\n",
    "from matplotlib import rcParams\n",
    "rcParams['font.family'] = 'serif'\n",
    "rcParams['font.size'] = 16\n",
    "from matplotlib import animation\n",
    "from JSAnimation.IPython_display import display_animation"
   ]
  },
  {
   "cell_type": "code",
   "execution_count": null,
   "metadata": {
    "collapsed": true
   },
   "outputs": [],
   "source": [
    "def rho_red_light(nx, rho_max, rho_in):\n",
    "    rho = rho_max*numpy.ones(nx)\n",
    "    rho[:(nx-1)*3/4] = rho_in\n",
    "    return rho"
   ]
  },
  {
   "cell_type": "code",
   "execution_count": null,
   "metadata": {
    "collapsed": false
   },
   "outputs": [],
   "source": [
    "def computeF(V_max, rho_max, rho):\n",
    "    return V_max*rho*(1-rho/rho_max)"
   ]
  },
  {
   "cell_type": "code",
   "execution_count": null,
   "metadata": {
    "collapsed": false
   },
   "outputs": [],
   "source": [
    "nx = 101\n",
    "nt = 30\n",
    "dx = 4.0/(nx-2)\n",
    "\n",
    "rho_in = 5\n",
    "rho_max = 10\n",
    "\n",
    "V_max = 1\n",
    "\n",
    "x = numpy.linspace(0,4,nx-1)\n",
    "\n",
    "rho = rho_red_light(nx-1, rho_max, rho_in)"
   ]
  },
  {
   "cell_type": "code",
   "execution_count": null,
   "metadata": {
    "collapsed": true
   },
   "outputs": [],
   "source": [
    "def animate(data):\n",
    "    x = numpy.linspace(0,4,nx-1)\n",
    "    y = date\n",
    "    line.set_data(x,y)\n",
    "    return line,"
   ]
  },
  {
   "cell_type": "code",
   "execution_count": null,
   "metadata": {
    "collapsed": true
   },
   "outputs": [],
   "source": [
    "def godunov(rho, nt, dt, dx, rho_max, V_max):\n",
    "    rho_n = numpy.zeros((nt,len(rho)))\n",
    "    rho_n[:,:] = rho.copy()\n",
    "    \n",
    "    rho_plus = numpy.zeros_like(rho)\n",
    "    rho_minus = numpy.zeros_like(rho)\n",
    "    flux = numpy.zeros_like(rho)\n",
    "    \n",
    "    for t in range(1,nt):\n",
    "        rho_plus[:-1] = rho[1:]\n",
    "        rho_minus = rho.copy()\n",
    "        flux = 0.5 * (computeF(V_max, rho_max, rho_minus) + computeF(V_max, rho_max, rho_plus) + dx/dt * (rho_minus - rho_plus))\n",
    "        rho_n[t,1:-1] = rho[1:-1] + dt/dx*(flux[:-2]-flux[1:-1])\n",
    "        rho_n[t,0] = rho[0]\n",
    "        rho_n[t,-1] = rho[-1]\n",
    "        rho = rho_n[t].copy()\n",
    "    return rho_n"
   ]
  },
  {
   "cell_type": "code",
   "execution_count": null,
   "metadata": {
    "collapsed": false
   },
   "outputs": [],
   "source": [
    "sigma = 1.0\n",
    "dt = sigma*dx/V_max\n",
    "\n",
    "rho = rho_red_light(nx-1, rho_max, rho_in)\n",
    "\n",
    "rho_n = godunov(rho, nt, dt, dx, rho_max, V_max)"
   ]
  },
  {
   "cell_type": "code",
   "execution_count": null,
   "metadata": {
    "collapsed": false
   },
   "outputs": [],
   "source": [
    "fig = pyplot.figure();\n",
    "ax = pyplot.axes(xlim=(0,4),ylim=(4.5,11),xlabel=('Distance'),ylabel=('Traffic density'));\n",
    "line, = ax.plot([],[],color='#003366', lw=2);\n",
    "\n",
    "anim = animation.FuncAnimation(fig, animate, frames=rho_n, interval=50)\n",
    "display_animation(anim, default_mode='once')"
   ]
  },
  {
   "cell_type": "code",
   "execution_count": null,
   "metadata": {
    "collapsed": false
   },
   "outputs": [],
   "source": [
    "def minmod(e, dx):\n",
    "    sigma = numpy.zeros_like(e)\n",
    "    de_minus = numpy.ones_like(e)\n",
    "    de_plus = numpy.ones_like(e)\n",
    "    \n",
    "    de_minus[1:] = (e[1:] - e[:-1])/dx\n",
    "    de_plus[:-1] = (e[1:] - e[:-1])/dx\n",
    "    \n",
    "    for i in range(1, len(e)-1):\n",
    "        if (de_minus[i] * de_plus[i] < 0.0):\n",
    "            sigma[i] = 0.0\n",
    "        elif (numpy.abs(de_minus[i]) < numpy.abs(de_plus[i])):\n",
    "            sigma[i] = de_minus[i]\n",
    "        else:\n",
    "            sigma[i] = de_plus[i]\n",
    "    return sigma"
   ]
  },
  {
   "cell_type": "code",
   "execution_count": null,
   "metadata": {
    "collapsed": false
   },
   "outputs": [],
   "source": [
    "def muscl(rho, nt, dt, dx, rho_max, V_max):\n",
    "    rho_n = numpy.zeros((nt,len(rho)))\n",
    "    rho_n[:,:] = rho.copy()\n",
    "    \n",
    "    rho_plus = numpy.zeros_like(rho)\n",
    "    rho_minus = numpy.zeros_like(rho)\n",
    "    flux = numpy.zeros_like(rho)\n",
    "    rho_star = numpy.zeros_like(rho)\n",
    "    \n",
    "    for t in range(1,nt):\n",
    "        sigma = minmod(rho,dx)\n",
    "        rho_left = rho + sigma*dx/2\n",
    "        rho_right = rho - sigma*dx/2\n",
    "        \n",
    "        flux_left = computeF(V_max, rho_max, rho_left)\n",
    "        flux_right = computeF(V_max, rho_max, rho_right)\n",
    "        \n",
    "        flux[:-1] = 0.5 * (flux_right[1:] + flux_left[:-1] - dx/dt *(rho_right[1:] - rho_left[:-1])\n",
    "        \n",
    "        rho_star[1:-1] = rho[1:-1] + dt/dx * (flux[:-2] - flux[1:-1])\n",
    "        rho_star[0] = rho[0]\n",
    "        rho_star[-1] = rho[-1]\n",
    "        \n",
    "        sigma = minmod(rho_star,dx)\n",
    "                           \n",
    "        rho_left = rho_star + sigma*dx/2.\n",
    "        rho_right = rho_star - sigma*dx/2.\n",
    "        \n",
    "        flux_left = computeF(V_max, rho_max, rho_left) \n",
    "        flux_right = computeF(V_max, rho_max, rho_right)\n",
    "        \n",
    "        flux[:-1] = 0.5 * (flux_right[1:] + flux_left[:-1] - dx/dt *\\\n",
    "                          (rho_right[1:] - rho_left[:-1] ))\n",
    "        \n",
    "        rho_n[t,1:-1] = .5 * (rho[1:-1] + rho_star[1:-1] + dt/dx * (flux[:-2] - flux[1:-1]))\n",
    "        \n",
    "        rho_n[t,0] = rho[0]\n",
    "        rho_n[t,-1] = rho[-1]\n",
    "        rho = rho_n[t].copy()\n",
    "        \n",
    "    return rho_n"
   ]
  },
  {
   "cell_type": "code",
   "execution_count": null,
   "metadata": {
    "collapsed": false
   },
   "outputs": [],
   "source": [
    "sigma = 1\n",
    "dt = sigma*dx/V_max\n",
    "rho = rho_red_light(nx-1, rho_max, rho_in)\n",
    "\n",
    "rho_n = muscl(rho, nt, dt, dx, rho_max, V_max)"
   ]
  },
  {
   "cell_type": "code",
   "execution_count": null,
   "metadata": {
    "collapsed": false
   },
   "outputs": [],
   "source": [
    "fig = pyplot.figure();\n",
    "ax = pyplot.axes(xlim=(0,4),ylim=(4.5,11),xlabel=('Distance'),ylabel=('Traffic density'));\n",
    "line, = ax.plot([],[],color='#003366', lw=2);\n",
    "\n",
    "anim = animation.FuncAnimation(fig, animate, frames=rho_n, interval=50)\n",
    "display_animation(anim, default_mode='once'"
   ]
  },
  {
   "cell_type": "code",
   "execution_count": null,
   "metadata": {
    "collapsed": true
   },
   "outputs": [],
   "source": []
  }
 ],
 "metadata": {
  "kernelspec": {
   "display_name": "Python 3",
   "language": "python",
   "name": "python3"
  },
  "language_info": {
   "codemirror_mode": {
    "name": "ipython",
    "version": 3
   },
   "file_extension": ".py",
   "mimetype": "text/x-python",
   "name": "python",
   "nbconvert_exporter": "python",
   "pygments_lexer": "ipython3",
   "version": "3.4.3"
  }
 },
 "nbformat": 4,
 "nbformat_minor": 0
}
