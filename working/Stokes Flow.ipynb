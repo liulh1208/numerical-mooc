{
 "cells": [
  {
   "cell_type": "code",
   "execution_count": 1,
   "metadata": {
    "collapsed": true
   },
   "outputs": [],
   "source": [
    "from matplotlib import pyplot, cm\n",
    "from math import pi\n",
    "import numpy\n",
    "%matplotlib inline\n",
    "from matplotlib import rcParams\n",
    "rcParams['font.family'] = 'serif'\n",
    "rcParams['font.size'] = 16"
   ]
  },
  {
   "cell_type": "code",
   "execution_count": 2,
   "metadata": {
    "collapsed": true
   },
   "outputs": [],
   "source": [
    "nx = 41\n",
    "ny = 41\n",
    "\n",
    "l = 1.\n",
    "h = 1.\n",
    "\n",
    "dx = l/(nx-1)\n",
    "dy = h/(ny-1)\n",
    "\n",
    "x = numpy.linspace(0,1,nx)\n",
    "y = numpy.linspace(0,1,ny)\n",
    "\n",
    "l1_target = 1e-6"
   ]
  },
  {
   "cell_type": "code",
   "execution_count": 3,
   "metadata": {
    "collapsed": true
   },
   "outputs": [],
   "source": [
    "def L1norm(new, old):\n",
    "    norm = numpy.sum(numpy.abs(new-old))\n",
    "    return norm"
   ]
  },
  {
   "cell_type": "code",
   "execution_count": 4,
   "metadata": {
    "collapsed": true
   },
   "outputs": [],
   "source": [
    "omega = numpy.zeros((ny,nx)) \n",
    "psi = numpy.zeros((ny,nx)) "
   ]
  },
  {
   "cell_type": "code",
   "execution_count": 5,
   "metadata": {
    "collapsed": false
   },
   "outputs": [],
   "source": [
    "def cavity(omega, psi, dx, dy, ll_target):\n",
    "    l1norm_psi = 1\n",
    "    l1norm_omega = 1\n",
    "    omega_n = numpy.empty_like(omega)\n",
    "    psi_n = numpy.empty_like(psi)\n",
    "    \n",
    "    \n",
    "    while l1norm_psi > l1_target or l1norm_omega > l1_target:\n",
    "        omega_n = omega.copy()\n",
    "        psi_n = psi.copy()\n",
    "        \n",
    "        #Poisson equation\n",
    "        psi[1:-1,1:-1] = 1./(2*(dx**2 + dy**2)) * ((psi_n[1:-1,2:]+psi_n[1:-1,:-2])*dy**2 +\\\n",
    "                        (psi_n[2:,1:-1] + psi_n[:-2,1:-1])*dx**2 + omega[1:-1,1:-1]*dx**2*dy**2)\n",
    "        \n",
    "        # BCs of psi are automatically enforced\n",
    "        l1norm_psi = L1norm(psi_n, psi)\n",
    "        \n",
    "        #Laplace\n",
    "        omega[1:-1,1:-1] = .25 * (omega_n[1:-1,2:] + omega_n[1:-1, :-2] + omega_n[2:, 1:-1] + omega_n[:-2, 1:-1])\n",
    "        uj =1\n",
    "        \n",
    "        #Neumann boundary\n",
    "        #top\n",
    "        omega[-1, 1:-1] = (-1./(2.*dy**2)*((8.*psi[-2, 1:-1]) - psi[-3, 1:-1])) - ((3. * uj) / dy)\n",
    "        #bottom\n",
    "        omega[0, 1:-1] = (-1./(2.*dy**2)*((8.*psi[1, 1:-1]) - psi[2, 1:-1]))\n",
    "        #left\n",
    "        omega[1:-1, 0] = (-1./(2.*dx**2)*((8.*psi[1:-1, 1]) - psi[1:-1, 2]))\n",
    "        #right\n",
    "        omega[1:-1, -1] = (-1./(2.*dx**2)*((8.*psi[1:-1, -2]) - psi[1:-1, -3]))\n",
    "      \n",
    "        \n",
    "        \n",
    "        l1norm_omega = L1norm(omega_n, omega)\n",
    "                             \n",
    "    return omega, psi"
   ]
  },
  {
   "cell_type": "code",
   "execution_count": 6,
   "metadata": {
    "collapsed": false
   },
   "outputs": [],
   "source": [
    "Ans = cavity(omega.copy(), psi.copy(), dx, dy, l1_target)"
   ]
  },
  {
   "cell_type": "code",
   "execution_count": 7,
   "metadata": {
    "collapsed": false
   },
   "outputs": [],
   "source": [
    "psi=Ans[1]\n",
    "omega = Ans[0]"
   ]
  },
  {
   "cell_type": "code",
   "execution_count": 8,
   "metadata": {
    "collapsed": false
   },
   "outputs": [
    {
     "data": {
      "text/plain": [
       "array([[  0.00000000e+00,   0.00000000e+00,   0.00000000e+00, ...,\n",
       "          0.00000000e+00,   0.00000000e+00,   0.00000000e+00],\n",
       "       [  0.00000000e+00,   1.41429633e-06,   2.17360372e-06, ...,\n",
       "          2.17360372e-06,   1.41429633e-06,   0.00000000e+00],\n",
       "       [  0.00000000e+00,   2.20482440e-06,   1.45898838e-07, ...,\n",
       "          1.45898838e-07,   2.20482440e-06,   0.00000000e+00],\n",
       "       ..., \n",
       "       [  0.00000000e+00,  -6.35061518e-03,  -1.52288240e-02, ...,\n",
       "         -1.52288240e-02,  -6.35061518e-03,   0.00000000e+00],\n",
       "       [  0.00000000e+00,  -7.32622358e-03,  -1.33638594e-02, ...,\n",
       "         -1.33638594e-02,  -7.32622358e-03,   0.00000000e+00],\n",
       "       [  0.00000000e+00,   0.00000000e+00,   0.00000000e+00, ...,\n",
       "          0.00000000e+00,   0.00000000e+00,   0.00000000e+00]])"
      ]
     },
     "execution_count": 8,
     "metadata": {},
     "output_type": "execute_result"
    }
   ],
   "source": [
    "psi"
   ]
  },
  {
   "cell_type": "code",
   "execution_count": 9,
   "metadata": {
    "collapsed": false
   },
   "outputs": [
    {
     "data": {
      "text/plain": [
       "array([[  0.00000000e+00,  -7.28763699e-03,  -1.37943448e-02, ...,\n",
       "         -1.37943448e-02,  -7.28763699e-03,   0.00000000e+00],\n",
       "       [ -7.31261353e-03,   2.04601149e-03,   1.14128837e-02, ...,\n",
       "          1.14128837e-02,   2.04601149e-03,  -7.31261353e-03],\n",
       "       [ -1.39941571e-02,   1.13714128e-02,   3.23148136e-02, ...,\n",
       "          3.23148136e-02,   1.13714128e-02,  -1.39941571e-02],\n",
       "       ..., \n",
       "       [  2.84608780e+01,   3.17800898e+00,  -7.89273450e+00, ...,\n",
       "         -7.89273450e+00,   3.17800898e+00,   2.84608780e+01],\n",
       "       [  3.61967434e+01,  -1.53446715e+01,  -2.25607772e+01, ...,\n",
       "         -2.25607772e+01,  -1.53446715e+01,   3.61967434e+01],\n",
       "       [  0.00000000e+00,  -7.81926612e+01,  -4.66543587e+01, ...,\n",
       "         -4.66543587e+01,  -7.81926612e+01,   0.00000000e+00]])"
      ]
     },
     "execution_count": 9,
     "metadata": {},
     "output_type": "execute_result"
    }
   ],
   "source": [
    "omega"
   ]
  },
  {
   "cell_type": "code",
   "execution_count": 10,
   "metadata": {
    "collapsed": true
   },
   "outputs": [],
   "source": [
    "max_psi = numpy.absolute(psi).max()"
   ]
  },
  {
   "cell_type": "code",
   "execution_count": 11,
   "metadata": {
    "collapsed": false
   },
   "outputs": [
    {
     "name": "stdout",
     "output_type": "stream",
     "text": [
      "The max value of |psi| is 0.0998\n"
     ]
    }
   ],
   "source": [
    "print('The max value of |psi| is {:.4f}'.format(max_psi))\n"
   ]
  },
  {
   "cell_type": "code",
   "execution_count": 12,
   "metadata": {
    "collapsed": true
   },
   "outputs": [],
   "source": [
    "max_omega = numpy.absolute(omega).max()"
   ]
  },
  {
   "cell_type": "code",
   "execution_count": 13,
   "metadata": {
    "collapsed": false
   },
   "outputs": [
    {
     "name": "stdout",
     "output_type": "stream",
     "text": [
      "The max value of |omega| is 78.1927\n"
     ]
    }
   ],
   "source": [
    "print('The max value of |omega| is {:.4f}'.format(max_omega))"
   ]
  },
  {
   "cell_type": "code",
   "execution_count": 14,
   "metadata": {
    "collapsed": false
   },
   "outputs": [
    {
     "data": {
      "text/plain": [
       "array([ 0.    , -0.0575, -0.0944, -0.0944, -0.0575,  0.    ])"
      ]
     },
     "execution_count": 14,
     "metadata": {},
     "output_type": "execute_result"
    }
   ],
   "source": [
    "numpy.round(psi[32,::8], 4)"
   ]
  },
  {
   "cell_type": "code",
   "execution_count": 15,
   "metadata": {
    "collapsed": true
   },
   "outputs": [],
   "source": [
    "mx, my = numpy.meshgrid(x,y)"
   ]
  },
  {
   "cell_type": "code",
   "execution_count": 16,
   "metadata": {
    "collapsed": false
   },
   "outputs": [
    {
     "data": {
      "image/png": "[encoded data removed]",
      "text/plain": [
       "<matplotlib.figure.Figure at 0x109efb048>"
      ]
     },
     "metadata": {},
     "output_type": "display_data"
    }
   ],
   "source": [
    "pyplot.figure(figsize=(8,8))\n",
    "pyplot.contourf(mx,my,psi,10, cmap=cm.viridis)\n",
    "pyplot.xlabel('$x$')\n",
    "pyplot.ylabel('$y$')\n",
    "pyplot.colorbar();"
   ]
  },
  {
   "cell_type": "code",
   "execution_count": null,
   "metadata": {
    "collapsed": true
   },
   "outputs": [],
   "source": []
  }
 ],
 "metadata": {
  "kernelspec": {
   "display_name": "Python 3",
   "language": "python",
   "name": "python3"
  },
  "language_info": {
   "codemirror_mode": {
    "name": "ipython",
    "version": 3
   },
   "file_extension": ".py",
   "mimetype": "text/x-python",
   "name": "python",
   "nbconvert_exporter": "python",
   "pygments_lexer": "ipython3",
   "version": "3.4.3"
  }
 },
 "nbformat": 4,
 "nbformat_minor": 0
}
