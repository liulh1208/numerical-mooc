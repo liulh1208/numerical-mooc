{
 "cells": [
  {
   "cell_type": "code",
   "execution_count": null,
   "metadata": {
    "collapsed": true
   },
   "outputs": [],
   "source": [
    "from matplotlib import pyplot, cm\n",
    "from math import pi\n",
    "import numpy\n",
    "%matplotlib inline\n",
    "from matplotlib import rcParams\n",
    "rcParams['font.family'] = 'serif'\n",
    "rcParams['font.size'] = 16"
   ]
  },
  {
   "cell_type": "code",
   "execution_count": null,
   "metadata": {
    "collapsed": true
   },
   "outputs": [],
   "source": [
    "nx = 41\n",
    "ny = 41\n",
    "\n",
    "l = 1.\n",
    "h = 1.\n",
    "\n",
    "dx = l/(nx-1)\n",
    "dy = h/(ny-1)\n",
    "\n",
    "x = numpy.linspace(0,1,nx)\n",
    "y = numpy.linspace(0,1,ny)\n",
    "\n",
    "l1_target = 1e-6"
   ]
  },
  {
   "cell_type": "code",
   "execution_count": null,
   "metadata": {
    "collapsed": true
   },
   "outputs": [],
   "source": [
    "def L1norm(new, old):\n",
    "    norm = numpy.sum(numpy.abs(new-old))\n",
    "    return norm"
   ]
  },
  {
   "cell_type": "code",
   "execution_count": null,
   "metadata": {
    "collapsed": true
   },
   "outputs": [],
   "source": [
    "omega = numpy.zeros((ny,nx)) \n",
    "psi = numpy.zeros((ny,nx)) "
   ]
  },
  {
   "cell_type": "code",
   "execution_count": null,
   "metadata": {
    "collapsed": true
   },
   "outputs": [],
   "source": [
    "def cavity(omega, psi, dx, dy, ll_target):\n",
    "    l1norm = 1\n",
    "    omega_n = numpy.empty_like(omega)\n",
    "    psi_n = numpy.empty_like(psi)\n",
    "    \n",
    "    \n",
    "    while l1norm > l1_target:\n",
    "        omega_n = omega.copy()\n",
    "        psi_n = psi.copy()\n",
    "        \n",
    "        omega[1:-1,1:-1] = .25 * (omega_n[1:-1,2:] + omega_n[1:-1, :-2] + omega_n[2:, 1:-1] + omega_n[:-2, 1:-1])\n",
    "        psi[1:-1,1:-1] = 1./(2*(dx**2 + dy**2)) * ((psi_n[1:-1,2:]+psi_n[1:-1,:-2])*dy**2 +\\\n",
    "                        (psi_n[2:,1:-1] + psi_n[:-2,1:-1])*dx**2 + omega[1:-1,1:-1]*dx**2*dy**2)\n",
    "        uj =1\n",
    "        #boundary\n",
    "        omega[-1, 1:-1] = (-1./(2.*dy**2)*((8.*psi[-2, 1:-1]) - psi[-3, 1:-1])) - ((3. * uj) / dy)\n",
    "        omega[0, 1:-1] = (-1./(2.*dy**2)*((8.*psi[1, 1:-1]) - psi[2, 1:-1]))\n",
    "        omega[1:-1, 0] = (-1./(2.*dx**2)*((8.*psi[1:-1, 1]) - psi[1:-1, 2]))\n",
    "        omega[1:-1, -1] = (-1./(2.*dx**2)*((8.*psi[1:-1, -2]) - psi[1:-1, -3]))\n",
    "      \n",
    "        \n",
    "        \n",
    "        l1norm = max(L1norm(omega, omega_n), L1norm(psi, psi_n))\n",
    "    return omega, psi"
   ]
  },
  {
   "cell_type": "code",
   "execution_count": null,
   "metadata": {
    "collapsed": false
   },
   "outputs": [],
   "source": [
    "A = cavity(omega.copy(), psi.copy(), dx, dy, l1_target)"
   ]
  },
  {
   "cell_type": "code",
   "execution_count": null,
   "metadata": {
    "collapsed": false
   },
   "outputs": [],
   "source": [
    "psi=A[1]"
   ]
  },
  {
   "cell_type": "code",
   "execution_count": null,
   "metadata": {
    "collapsed": true
   },
   "outputs": [],
   "source": [
    "maxpsi = numpy.absolute(psi).max()"
   ]
  },
  {
   "cell_type": "code",
   "execution_count": null,
   "metadata": {
    "collapsed": false
   },
   "outputs": [],
   "source": [
    "maxpsi\n"
   ]
  },
  {
   "cell_type": "code",
   "execution_count": null,
   "metadata": {
    "collapsed": false
   },
   "outputs": [],
   "source": [
    "numpy.round(psi[32,::8], 4)"
   ]
  },
  {
   "cell_type": "code",
   "execution_count": null,
   "metadata": {
    "collapsed": true
   },
   "outputs": [],
   "source": []
  }
 ],
 "metadata": {
  "kernelspec": {
   "display_name": "Python 3",
   "language": "python",
   "name": "python3"
  },
  "language_info": {
   "codemirror_mode": {
    "name": "ipython",
    "version": 3
   },
   "file_extension": ".py",
   "mimetype": "text/x-python",
   "name": "python",
   "nbconvert_exporter": "python",
   "pygments_lexer": "ipython3",
   "version": "3.4.3"
  }
 },
 "nbformat": 4,
 "nbformat_minor": 0
}
