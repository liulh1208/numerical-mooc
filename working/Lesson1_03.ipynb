{
 "cells": [
  {
   "cell_type": "code",
   "execution_count": 26,
   "metadata": {
    "collapsed": true
   },
   "outputs": [],
   "source": [
    "from math import sin, cos, log, ceil\n",
    "import numpy\n",
    "from matplotlib import pyplot\n",
    "%matplotlib inline\n",
    "from matplotlib import rcParams\n",
    "rcParams['font.family'] = 'serif'\n",
    "rcParams['font.size'] = 16"
   ]
  },
  {
   "cell_type": "code",
   "execution_count": 27,
   "metadata": {
    "collapsed": true
   },
   "outputs": [],
   "source": [
    "# model parameters:\n",
    "g = 9.8      # gravity in m s^{-2}\n",
    "v_t = 4.9   # trim velocity in m s^{-1}   \n",
    "C_D = 1/5  # drag coefficient --- or D/L if C_L=1\n",
    "C_L = 1   # for convenience, use C_L = 1\n",
    "\n",
    "### set initial conditions ###\n",
    "for v0 in range (5,20,1)   # start at the trim velocity (or add a delta)\n",
    "theta0 = 0 # initial angle of trajectory\n",
    "x0 = 0     # horizotal position is arbitrary\n",
    "y0 = 1000  # initial altitude"
   ]
  },
  {
   "cell_type": "code",
   "execution_count": 28,
   "metadata": {
    "collapsed": false
   },
   "outputs": [],
   "source": [
    "def f(u):\n",
    "    v = u[0]\n",
    "    theta = u[1]\n",
    "    x = u[2]\n",
    "    y = u[3]\n",
    "    return numpy.array([-g*sin(theta) - C_D/C_L*g/v_t**2*v**2,\n",
    "                      -g*cos(theta)/v + g/v_t**2*v,\n",
    "                      v*cos(theta),\n",
    "                      v*sin(theta)])"
   ]
  },
  {
   "cell_type": "code",
   "execution_count": 29,
   "metadata": {
    "collapsed": true
   },
   "outputs": [],
   "source": [
    "def euler_step(u, f, dt):\n",
    "    return u + dt * f(u)"
   ]
  },
  {
   "cell_type": "code",
   "execution_count": 37,
   "metadata": {
    "collapsed": false
   },
   "outputs": [
    {
     "ename": "SyntaxError",
     "evalue": "Missing parentheses in call to 'print' (<ipython-input-37-53ade56e8a47>, line 16)",
     "output_type": "error",
     "traceback": [
      "\u001b[0;36m  File \u001b[0;32m\"<ipython-input-37-53ade56e8a47>\"\u001b[0;36m, line \u001b[0;32m16\u001b[0m\n\u001b[0;31m    print u\u001b[0m\n\u001b[0m          ^\u001b[0m\n\u001b[0;31mSyntaxError\u001b[0m\u001b[0;31m:\u001b[0m Missing parentheses in call to 'print'\n"
     ]
    }
   ],
   "source": [
    "T = 100                          # final time\n",
    "dt = 0.1                           # time increment\n",
    "N = int(T/dt) + 1                  # number of time-steps\n",
    "t = numpy.linspace(0, T, N)      # time discretization\n",
    "\n",
    "\n",
    "# initialize the array containing the solution for each time-step\n",
    "u = numpy.empty((N, 4))\n",
    "u[0] = numpy.array([v0, theta0, x0, y0])# fill 1st element with initial values\n",
    "\n",
    "for theta0 in range(0,10+1):\n",
    "# time loop - Euler method\n",
    "    for n in range(N-1):\n",
    "    \n",
    "        u[n+1] = euler_step(u[n], f, dt)\n",
    "print u"
   ]
  },
  {
   "cell_type": "code",
   "execution_count": 24,
   "metadata": {
    "collapsed": true
   },
   "outputs": [],
   "source": [
    "# get the glider's position with respect to the time\n",
    "x = u[:,2]\n",
    "y = u[:,3]"
   ]
  },
  {
   "cell_type": "code",
   "execution_count": 25,
   "metadata": {
    "collapsed": false
   },
   "outputs": [
    {
     "data": {
      "image/png": "[encoded data removed]",
      "text/plain": [
       "<matplotlib.figure.Figure at 0x1069f86a0>"
      ]
     },
     "metadata": {},
     "output_type": "display_data"
    }
   ],
   "source": [
    "# visualization of the path\n",
    "pyplot.figure(figsize=(8,6))\n",
    "pyplot.grid(True)\n",
    "pyplot.xlabel(r'x', fontsize=18)\n",
    "pyplot.ylabel(r'y', fontsize=18)\n",
    "pyplot.title('Glider trajectory, flight time = %.2f' % T, fontsize=18)\n",
    "pyplot.plot(x,y, 'k-', lw=2);"
   ]
  },
  {
   "cell_type": "code",
   "execution_count": null,
   "metadata": {
    "collapsed": true
   },
   "outputs": [],
   "source": [
    "dt_values = numpy.array([0.1, 0.05, 0.01, 0.005, 0.001])\n",
    "\n",
    "u_values = numpy.empty_like(dt_values, dtype=numpy.ndarray)\n",
    "\n",
    "for i, dt in enumerate(dt_values):\n",
    "    \n",
    "    N = int(T/dt) + 1    # number of time-steps\n",
    "    \n",
    "    ### discretize the time t ###\n",
    "    t = numpy.linspace(0.0, T, N)\n",
    "    \n",
    "    # initialize the array containing the solution for each time-step\n",
    "    u = numpy.empty((N, 4))\n",
    "    u[0] = numpy.array([v0, theta0, x0, y0])\n",
    "\n",
    "    # time loop\n",
    "    for n in range(N-1):\n",
    "       \n",
    "        u[n+1] = euler_step(u[n], f, dt)   ### call euler_step() ###\n",
    "    \n",
    "    # store the value of u related to one grid\n",
    "    u_values[i] = u"
   ]
  },
  {
   "cell_type": "code",
   "execution_count": null,
   "metadata": {
    "collapsed": true
   },
   "outputs": [],
   "source": [
    "def get_diffgrid(u_current, u_fine, dt):\n",
    "    \"\"\"Returns the difference between one grid and the fine one using L-1 norm.\n",
    "    \n",
    "    Parameters\n",
    "    ----------\n",
    "    u_current : array of float\n",
    "        solution on the current grid.\n",
    "    u_finest : array of float\n",
    "        solution on the fine grid.\n",
    "    dt : float\n",
    "        time-increment on the current grid.\n",
    "    \n",
    "    Returns\n",
    "    -------\n",
    "    diffgrid : float\n",
    "        difference computed in the L-1 norm.\n",
    "    \"\"\"\n",
    "    \n",
    "    N_current = len(u_current[:,0])\n",
    "    N_fine = len(u_fine[:,0])\n",
    "   \n",
    "    grid_size_ratio = ceil(N_fine/N_current)\n",
    "    \n",
    "    diffgrid = dt * numpy.sum( numpy.abs(\\\n",
    "            u_current[:,2]- u_fine[::grid_size_ratio,2])) \n",
    "    \n",
    "    return diffgrid"
   ]
  },
  {
   "cell_type": "code",
   "execution_count": null,
   "metadata": {
    "collapsed": false
   },
   "outputs": [],
   "source": [
    "# compute difference between one grid solution and the finest one\n",
    "diffgrid = numpy.empty_like(dt_values)\n",
    "\n",
    "for i, dt in enumerate(dt_values):\n",
    "    print('dt = {}'.format(dt))\n",
    "\n",
    "    ### call the function get_diffgrid() ###\n",
    "    diffgrid[i] = get_diffgrid(u_values[i], u_values[-1], dt)"
   ]
  },
  {
   "cell_type": "code",
   "execution_count": null,
   "metadata": {
    "collapsed": false
   },
   "outputs": [],
   "source": [
    "# log-log plot of the grid differences\n",
    "pyplot.figure(figsize=(6,6))\n",
    "pyplot.grid(True)\n",
    "pyplot.xlabel('$\\Delta t$', fontsize=18)\n",
    "pyplot.ylabel('$L_1$-norm of the grid differences', fontsize=18)\n",
    "pyplot.axis('equal')\n",
    "pyplot.loglog(dt_values[:-1], diffgrid[:-1], color='k', ls='-', lw=2, marker='o');"
   ]
  },
  {
   "cell_type": "code",
   "execution_count": null,
   "metadata": {
    "collapsed": false
   },
   "outputs": [],
   "source": [
    "r = 2\n",
    "h = 0.001\n",
    "\n",
    "dt_values2 = numpy.array([h, r*h, r**2*h])\n",
    "\n",
    "u_values2 = numpy.empty_like(dt_values2, dtype=numpy.ndarray)\n",
    "\n",
    "diffgrid2 = numpy.empty(2)\n",
    "\n",
    "for i, dt in enumerate(dt_values2):\n",
    "    \n",
    "    N = int(T/dt) + 1   # number of time-steps\n",
    "    \n",
    "    ### discretize the time t ###\n",
    "    t = numpy.linspace(0.0, T, N)\n",
    "    \n",
    "    # initialize the array containing the solution for each time-step\n",
    "    u = numpy.empty((N, 4))\n",
    "    u[0] = numpy.array([v0, theta0, x0, y0])\n",
    "\n",
    "    # time loop\n",
    "    for n in range(N-1):\n",
    "\n",
    "        u[n+1] = euler_step(u[n], f, dt)         ### call euler_step() ###\n",
    "    \n",
    "    # store the value of u related to one grid\n",
    "    u_values2[i] = u\n",
    "    \n",
    "\n",
    "#calculate f2 - f1\n",
    "diffgrid2[0] = get_diffgrid(u_values2[1], u_values2[0], dt_values2[1])\n",
    "\n",
    "#calculate f3 - f2\n",
    "diffgrid2[1] = get_diffgrid(u_values2[2], u_values2[1], dt_values2[2])\n",
    "\n",
    "# calculate the order of convergence\n",
    "p = (log(diffgrid2[1]) - log(diffgrid2[0])) / log(r)\n",
    "\n",
    "print('The order of convergence is p = {:.3f}'.format(p));"
   ]
  },
  {
   "cell_type": "code",
   "execution_count": 1,
   "metadata": {
    "collapsed": false
   },
   "outputs": [
    {
     "ename": "FileNotFoundError",
     "evalue": "[Errno 2] No such file or directory: '../../styles/numericalmoocstyle.css'",
     "output_type": "error",
     "traceback": [
      "\u001b[0;31m---------------------------------------------------------------------------\u001b[0m",
      "\u001b[0;31mFileNotFoundError\u001b[0m                         Traceback (most recent call last)",
      "\u001b[0;32m<ipython-input-1-fde599084f9c>\u001b[0m in \u001b[0;36m<module>\u001b[0;34m()\u001b[0m\n\u001b[1;32m      1\u001b[0m \u001b[0;32mfrom\u001b[0m \u001b[0mIPython\u001b[0m\u001b[0;34m.\u001b[0m\u001b[0mcore\u001b[0m\u001b[0;34m.\u001b[0m\u001b[0mdisplay\u001b[0m \u001b[0;32mimport\u001b[0m \u001b[0mHTML\u001b[0m\u001b[0;34m\u001b[0m\u001b[0m\n\u001b[1;32m      2\u001b[0m \u001b[0mcss_file\u001b[0m \u001b[0;34m=\u001b[0m \u001b[0;34m'../../styles/numericalmoocstyle.css'\u001b[0m\u001b[0;34m\u001b[0m\u001b[0m\n\u001b[0;32m----> 3\u001b[0;31m \u001b[0mHTML\u001b[0m\u001b[0;34m(\u001b[0m\u001b[0mopen\u001b[0m\u001b[0;34m(\u001b[0m\u001b[0mcss_file\u001b[0m\u001b[0;34m,\u001b[0m \u001b[0;34m\"r\"\u001b[0m\u001b[0;34m)\u001b[0m\u001b[0;34m.\u001b[0m\u001b[0mread\u001b[0m\u001b[0;34m(\u001b[0m\u001b[0;34m)\u001b[0m\u001b[0;34m)\u001b[0m\u001b[0;34m\u001b[0m\u001b[0m\n\u001b[0m",
      "\u001b[0;31mFileNotFoundError\u001b[0m: [Errno 2] No such file or directory: '../../styles/numericalmoocstyle.css'"
     ]
    }
   ],
   "source": [
    "from IPython.core.display import HTML\n",
    "css_file = '../../styles/numericalmoocstyle.css'\n",
    "HTML(open(css_file, \"r\").read())"
   ]
  },
  {
   "cell_type": "code",
   "execution_count": null,
   "metadata": {
    "collapsed": true
   },
   "outputs": [],
   "source": []
  }
 ],
 "metadata": {
  "kernelspec": {
   "display_name": "Python 3",
   "language": "python",
   "name": "python3"
  },
  "language_info": {
   "codemirror_mode": {
    "name": "ipython",
    "version": 3
   },
   "file_extension": ".py",
   "mimetype": "text/x-python",
   "name": "python",
   "nbconvert_exporter": "python",
   "pygments_lexer": "ipython3",
   "version": "3.4.3"
  }
 },
 "nbformat": 4,
 "nbformat_minor": 0
}
