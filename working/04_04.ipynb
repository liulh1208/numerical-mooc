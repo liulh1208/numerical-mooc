{
 "cells": [
  {
   "cell_type": "code",
   "execution_count": 2,
   "metadata": {
    "collapsed": false
   },
   "outputs": [],
   "source": [
    "import numpy\n",
    "from scipy.linalg import solve"
   ]
  },
  {
   "cell_type": "code",
   "execution_count": null,
   "metadata": {
    "collapsed": true
   },
   "outputs": [],
   "source": [
    "def constructMatrix(nx, ny, sigma):\n",
    "    A = numpy.zeros((nx-2)*(ny-2),(nx-2)*(ny-2))\n",
    "    row_number = 0\n",
    "    \n",
    "    for j in range(1,ny-1):\n",
    "        for i in range(1,nx-1):\n",
    "            if i==1 and j==1:\n",
    "                A[row_number,row_number] = 1/sigma+4\n",
    "                A[row_number,row_number+1] = -1\n",
    "                A[row_number,row_number+nx-2] = -1\n",
    "                \n",
    "            elif"
   ]
  }
 ],
 "metadata": {
  "kernelspec": {
   "display_name": "Python 3",
   "language": "python",
   "name": "python3"
  },
  "language_info": {
   "codemirror_mode": {
    "name": "ipython",
    "version": 3
   },
   "file_extension": ".py",
   "mimetype": "text/x-python",
   "name": "python",
   "nbconvert_exporter": "python",
   "pygments_lexer": "ipython3",
   "version": "3.4.3"
  }
 },
 "nbformat": 4,
 "nbformat_minor": 0
}
